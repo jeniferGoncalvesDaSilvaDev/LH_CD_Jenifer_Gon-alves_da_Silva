{
  "nbformat": 4,
  "nbformat_minor": 0,
  "metadata": {
    "colab": {
      "provenance": [],
      "mount_file_id": "1gn9Ap6P7FVyuAvOaMDk58gkcSIftYs1g",
      "authorship_tag": "ABX9TyMJIciaa5wtuj+8yTH1CI9J",
      "include_colab_link": true
    },
    "kernelspec": {
      "name": "python3",
      "display_name": "Python 3"
    },
    "language_info": {
      "name": "python"
    }
  },
  "cells": [
    {
      "cell_type": "markdown",
      "metadata": {
        "id": "view-in-github",
        "colab_type": "text"
      },
      "source": [
        "<a href=\"https://colab.research.google.com/github/jeniferGoncalvesDaSilvaDev/LH_CD_Jenifer_Gon-alves_da_Silva/blob/main/C%C3%B3pia_de_LH_CD_Jenifer_Gon%C3%A7alves_da_silva.ipynb\" target=\"_parent\"><img src=\"https://colab.research.google.com/assets/colab-badge.svg\" alt=\"Open In Colab\"/></a>"
      ]
    },
    {
      "cell_type": "code",
      "execution_count": null,
      "metadata": {
        "id": "XfghkbHvzhaq"
      },
      "outputs": [],
      "source": [
        "import pandas as pd"
      ]
    },
    {
      "cell_type": "markdown",
      "source": [
        "Ler e carregar o dataset"
      ],
      "metadata": {
        "id": "EX0dKVpZ02mG"
      }
    },
    {
      "cell_type": "code",
      "source": [
        "df = pd.read_csv(\"/content/drive/MyDrive/Lighthouse/[LH 2025-3] Desafio de Ciência de Dados/teste_indicium_precificacao.csv\")\n",
        "print(df)"
      ],
      "metadata": {
        "colab": {
          "base_uri": "https://localhost:8080/"
        },
        "id": "IPYZZKyF0jYj",
        "outputId": "12a3a184-3414-481b-a164-24b78cb12014"
      },
      "execution_count": null,
      "outputs": [
        {
          "output_type": "stream",
          "name": "stdout",
          "text": [
            "             id                                               nome   host_id  \\\n",
            "0          2595                              Skylit Midtown Castle      2845   \n",
            "1          3647                THE VILLAGE OF HARLEM....NEW YORK !      4632   \n",
            "2          3831                    Cozy Entire Floor of Brownstone      4869   \n",
            "3          5022   Entire Apt: Spacious Studio/Loft by central park      7192   \n",
            "4          5099          Large Cozy 1 BR Apartment In Midtown East      7322   \n",
            "...         ...                                                ...       ...   \n",
            "48889  36484665    Charming one bedroom - newly renovated rowhouse   8232441   \n",
            "48890  36485057      Affordable room in Bushwick/East Williamsburg   6570630   \n",
            "48891  36485431            Sunny Studio at Historical Neighborhood  23492952   \n",
            "48892  36485609               43rd St. Time Square-cozy single bed  30985759   \n",
            "48893  36487245  Trendy duplex in the very heart of Hell's Kitchen  68119814   \n",
            "\n",
            "           host_name bairro_group              bairro  latitude  longitude  \\\n",
            "0           Jennifer    Manhattan             Midtown  40.75362  -73.98377   \n",
            "1          Elisabeth    Manhattan              Harlem  40.80902  -73.94190   \n",
            "2        LisaRoxanne     Brooklyn        Clinton Hill  40.68514  -73.95976   \n",
            "3              Laura    Manhattan         East Harlem  40.79851  -73.94399   \n",
            "4              Chris    Manhattan         Murray Hill  40.74767  -73.97500   \n",
            "...              ...          ...                 ...       ...        ...   \n",
            "48889        Sabrina     Brooklyn  Bedford-Stuyvesant  40.67853  -73.94995   \n",
            "48890        Marisol     Brooklyn            Bushwick  40.70184  -73.93317   \n",
            "48891  Ilgar & Aysel    Manhattan              Harlem  40.81475  -73.94867   \n",
            "48892            Taz    Manhattan      Hell's Kitchen  40.75751  -73.99112   \n",
            "48893     Christophe    Manhattan      Hell's Kitchen  40.76404  -73.98933   \n",
            "\n",
            "             room_type  price  minimo_noites  numero_de_reviews ultima_review  \\\n",
            "0      Entire home/apt    225              1                 45    2019-05-21   \n",
            "1         Private room    150              3                  0           NaN   \n",
            "2      Entire home/apt     89              1                270    2019-07-05   \n",
            "3      Entire home/apt     80             10                  9    2018-11-19   \n",
            "4      Entire home/apt    200              3                 74    2019-06-22   \n",
            "...                ...    ...            ...                ...           ...   \n",
            "48889     Private room     70              2                  0           NaN   \n",
            "48890     Private room     40              4                  0           NaN   \n",
            "48891  Entire home/apt    115             10                  0           NaN   \n",
            "48892      Shared room     55              1                  0           NaN   \n",
            "48893     Private room     90              7                  0           NaN   \n",
            "\n",
            "       reviews_por_mes  calculado_host_listings_count  disponibilidade_365  \n",
            "0                 0.38                              2                  355  \n",
            "1                  NaN                              1                  365  \n",
            "2                 4.64                              1                  194  \n",
            "3                 0.10                              1                    0  \n",
            "4                 0.59                              1                  129  \n",
            "...                ...                            ...                  ...  \n",
            "48889              NaN                              2                    9  \n",
            "48890              NaN                              2                   36  \n",
            "48891              NaN                              1                   27  \n",
            "48892              NaN                              6                    2  \n",
            "48893              NaN                              1                   23  \n",
            "\n",
            "[48894 rows x 16 columns]\n"
          ]
        }
      ]
    },
    {
      "cell_type": "markdown",
      "source": [
        "Limpeza de dados: verificar valores nulos e duplicados"
      ],
      "metadata": {
        "id": "tenVmFBA0xfX"
      }
    },
    {
      "cell_type": "code",
      "source": [
        "valores_nulos= df.isnull().sum()\n",
        "print(valores_nulos)"
      ],
      "metadata": {
        "id": "c3dVrinm0vuL",
        "colab": {
          "base_uri": "https://localhost:8080/"
        },
        "outputId": "09484d7d-d797-493c-f6d6-ae19c7a15da3"
      },
      "execution_count": null,
      "outputs": [
        {
          "output_type": "stream",
          "name": "stdout",
          "text": [
            "id                                   0\n",
            "nome                                16\n",
            "host_id                              0\n",
            "host_name                           21\n",
            "bairro_group                         0\n",
            "bairro                               0\n",
            "latitude                             0\n",
            "longitude                            0\n",
            "room_type                            0\n",
            "price                                0\n",
            "minimo_noites                        0\n",
            "numero_de_reviews                    0\n",
            "ultima_review                    10052\n",
            "reviews_por_mes                  10052\n",
            "calculado_host_listings_count        0\n",
            "disponibilidade_365                  0\n",
            "dtype: int64\n"
          ]
        }
      ]
    },
    {
      "cell_type": "code",
      "source": [
        "df2 = df.dropna()\n",
        "valores_nulos2 = df2.isnull().sum()\n",
        "print(valores_nulos2)"
      ],
      "metadata": {
        "colab": {
          "base_uri": "https://localhost:8080/"
        },
        "id": "OSq38g7vNSw0",
        "outputId": "13f3be87-4a7c-4585-f8bd-4153b450a485"
      },
      "execution_count": null,
      "outputs": [
        {
          "output_type": "stream",
          "name": "stdout",
          "text": [
            "id                               0\n",
            "nome                             0\n",
            "host_id                          0\n",
            "host_name                        0\n",
            "bairro_group                     0\n",
            "bairro                           0\n",
            "latitude                         0\n",
            "longitude                        0\n",
            "room_type                        0\n",
            "price                            0\n",
            "minimo_noites                    0\n",
            "numero_de_reviews                0\n",
            "ultima_review                    0\n",
            "reviews_por_mes                  0\n",
            "calculado_host_listings_count    0\n",
            "disponibilidade_365              0\n",
            "dtype: int64\n"
          ]
        }
      ]
    },
    {
      "cell_type": "code",
      "source": [
        "\n",
        "\n",
        "# Encontre valores nulos baseados em linhas\n",
        "duplicates = df2[df2.duplicated(keep=False)]\n",
        "\n",
        "if not duplicates.empty:\n",
        "    print(\"Linhas duplicadas encontradas:\")\n",
        "    print(duplicates)\n",
        "else:\n",
        "    print(\"Nenhuma linha duplicada encontrada\")"
      ],
      "metadata": {
        "colab": {
          "base_uri": "https://localhost:8080/"
        },
        "id": "qel3mTYSNoKM",
        "outputId": "a63b30f9-d5b2-4d8f-907f-b4c0bf77712c"
      },
      "execution_count": null,
      "outputs": [
        {
          "output_type": "stream",
          "name": "stdout",
          "text": [
            "Nenhuma linha duplicada encontrada\n"
          ]
        }
      ]
    },
    {
      "cell_type": "markdown",
      "source": [
        "Fazendo uma descrição simples da tabela"
      ],
      "metadata": {
        "id": "pHf6tTaxPVac"
      }
    },
    {
      "cell_type": "code",
      "source": [
        "df2.describe()"
      ],
      "metadata": {
        "colab": {
          "base_uri": "https://localhost:8080/",
          "height": 320
        },
        "id": "zXXzyjGVO8DQ",
        "outputId": "5c5b79a7-e484-4d86-e9be-e18d90f39401"
      },
      "execution_count": null,
      "outputs": [
        {
          "output_type": "execute_result",
          "data": {
            "text/plain": [
              "                 id       host_id      latitude     longitude         price  \\\n",
              "count  3.882000e+04  3.882000e+04  38820.000000  38820.000000  38820.000000   \n",
              "mean   1.810127e+07  6.424747e+07     40.728131    -73.951148    142.332354   \n",
              "std    1.069347e+07  7.589779e+07      0.054990      0.046693    196.997290   \n",
              "min    2.595000e+03  2.438000e+03     40.506410    -74.244420      0.000000   \n",
              "25%    8.722029e+06  7.032517e+06     40.688640    -73.982462     69.000000   \n",
              "50%    1.887339e+07  2.837143e+07     40.721710    -73.954805    101.000000   \n",
              "75%    2.756792e+07  1.019092e+08     40.762990    -73.935020    170.000000   \n",
              "max    3.645581e+07  2.738417e+08     40.913060    -73.712990  10000.000000   \n",
              "\n",
              "       minimo_noites  numero_de_reviews  reviews_por_mes  \\\n",
              "count   38820.000000       38820.000000     38820.000000   \n",
              "mean        5.869346          29.290778         1.373259   \n",
              "std        17.389233          48.183410         1.680339   \n",
              "min         1.000000           1.000000         0.010000   \n",
              "25%         1.000000           3.000000         0.190000   \n",
              "50%         2.000000           9.000000         0.720000   \n",
              "75%         4.000000          33.000000         2.020000   \n",
              "max      1250.000000         629.000000        58.500000   \n",
              "\n",
              "       calculado_host_listings_count  disponibilidade_365  \n",
              "count                   38820.000000         38820.000000  \n",
              "mean                        5.166589           114.879856  \n",
              "std                        26.303293           129.525398  \n",
              "min                         1.000000             0.000000  \n",
              "25%                         1.000000             0.000000  \n",
              "50%                         1.000000            55.000000  \n",
              "75%                         2.000000           229.000000  \n",
              "max                       327.000000           365.000000  "
            ],
            "text/html": [
              "\n",
              "  <div id=\"df-0ba4f213-d48e-4fc1-98d5-afa059a730a3\" class=\"colab-df-container\">\n",
              "    <div>\n",
              "<style scoped>\n",
              "    .dataframe tbody tr th:only-of-type {\n",
              "        vertical-align: middle;\n",
              "    }\n",
              "\n",
              "    .dataframe tbody tr th {\n",
              "        vertical-align: top;\n",
              "    }\n",
              "\n",
              "    .dataframe thead th {\n",
              "        text-align: right;\n",
              "    }\n",
              "</style>\n",
              "<table border=\"1\" class=\"dataframe\">\n",
              "  <thead>\n",
              "    <tr style=\"text-align: right;\">\n",
              "      <th></th>\n",
              "      <th>id</th>\n",
              "      <th>host_id</th>\n",
              "      <th>latitude</th>\n",
              "      <th>longitude</th>\n",
              "      <th>price</th>\n",
              "      <th>minimo_noites</th>\n",
              "      <th>numero_de_reviews</th>\n",
              "      <th>reviews_por_mes</th>\n",
              "      <th>calculado_host_listings_count</th>\n",
              "      <th>disponibilidade_365</th>\n",
              "    </tr>\n",
              "  </thead>\n",
              "  <tbody>\n",
              "    <tr>\n",
              "      <th>count</th>\n",
              "      <td>3.882000e+04</td>\n",
              "      <td>3.882000e+04</td>\n",
              "      <td>38820.000000</td>\n",
              "      <td>38820.000000</td>\n",
              "      <td>38820.000000</td>\n",
              "      <td>38820.000000</td>\n",
              "      <td>38820.000000</td>\n",
              "      <td>38820.000000</td>\n",
              "      <td>38820.000000</td>\n",
              "      <td>38820.000000</td>\n",
              "    </tr>\n",
              "    <tr>\n",
              "      <th>mean</th>\n",
              "      <td>1.810127e+07</td>\n",
              "      <td>6.424747e+07</td>\n",
              "      <td>40.728131</td>\n",
              "      <td>-73.951148</td>\n",
              "      <td>142.332354</td>\n",
              "      <td>5.869346</td>\n",
              "      <td>29.290778</td>\n",
              "      <td>1.373259</td>\n",
              "      <td>5.166589</td>\n",
              "      <td>114.879856</td>\n",
              "    </tr>\n",
              "    <tr>\n",
              "      <th>std</th>\n",
              "      <td>1.069347e+07</td>\n",
              "      <td>7.589779e+07</td>\n",
              "      <td>0.054990</td>\n",
              "      <td>0.046693</td>\n",
              "      <td>196.997290</td>\n",
              "      <td>17.389233</td>\n",
              "      <td>48.183410</td>\n",
              "      <td>1.680339</td>\n",
              "      <td>26.303293</td>\n",
              "      <td>129.525398</td>\n",
              "    </tr>\n",
              "    <tr>\n",
              "      <th>min</th>\n",
              "      <td>2.595000e+03</td>\n",
              "      <td>2.438000e+03</td>\n",
              "      <td>40.506410</td>\n",
              "      <td>-74.244420</td>\n",
              "      <td>0.000000</td>\n",
              "      <td>1.000000</td>\n",
              "      <td>1.000000</td>\n",
              "      <td>0.010000</td>\n",
              "      <td>1.000000</td>\n",
              "      <td>0.000000</td>\n",
              "    </tr>\n",
              "    <tr>\n",
              "      <th>25%</th>\n",
              "      <td>8.722029e+06</td>\n",
              "      <td>7.032517e+06</td>\n",
              "      <td>40.688640</td>\n",
              "      <td>-73.982462</td>\n",
              "      <td>69.000000</td>\n",
              "      <td>1.000000</td>\n",
              "      <td>3.000000</td>\n",
              "      <td>0.190000</td>\n",
              "      <td>1.000000</td>\n",
              "      <td>0.000000</td>\n",
              "    </tr>\n",
              "    <tr>\n",
              "      <th>50%</th>\n",
              "      <td>1.887339e+07</td>\n",
              "      <td>2.837143e+07</td>\n",
              "      <td>40.721710</td>\n",
              "      <td>-73.954805</td>\n",
              "      <td>101.000000</td>\n",
              "      <td>2.000000</td>\n",
              "      <td>9.000000</td>\n",
              "      <td>0.720000</td>\n",
              "      <td>1.000000</td>\n",
              "      <td>55.000000</td>\n",
              "    </tr>\n",
              "    <tr>\n",
              "      <th>75%</th>\n",
              "      <td>2.756792e+07</td>\n",
              "      <td>1.019092e+08</td>\n",
              "      <td>40.762990</td>\n",
              "      <td>-73.935020</td>\n",
              "      <td>170.000000</td>\n",
              "      <td>4.000000</td>\n",
              "      <td>33.000000</td>\n",
              "      <td>2.020000</td>\n",
              "      <td>2.000000</td>\n",
              "      <td>229.000000</td>\n",
              "    </tr>\n",
              "    <tr>\n",
              "      <th>max</th>\n",
              "      <td>3.645581e+07</td>\n",
              "      <td>2.738417e+08</td>\n",
              "      <td>40.913060</td>\n",
              "      <td>-73.712990</td>\n",
              "      <td>10000.000000</td>\n",
              "      <td>1250.000000</td>\n",
              "      <td>629.000000</td>\n",
              "      <td>58.500000</td>\n",
              "      <td>327.000000</td>\n",
              "      <td>365.000000</td>\n",
              "    </tr>\n",
              "  </tbody>\n",
              "</table>\n",
              "</div>\n",
              "    <div class=\"colab-df-buttons\">\n",
              "\n",
              "  <div class=\"colab-df-container\">\n",
              "    <button class=\"colab-df-convert\" onclick=\"convertToInteractive('df-0ba4f213-d48e-4fc1-98d5-afa059a730a3')\"\n",
              "            title=\"Convert this dataframe to an interactive table.\"\n",
              "            style=\"display:none;\">\n",
              "\n",
              "  <svg xmlns=\"http://www.w3.org/2000/svg\" height=\"24px\" viewBox=\"0 -960 960 960\">\n",
              "    <path d=\"M120-120v-720h720v720H120Zm60-500h600v-160H180v160Zm220 220h160v-160H400v160Zm0 220h160v-160H400v160ZM180-400h160v-160H180v160Zm440 0h160v-160H620v160ZM180-180h160v-160H180v160Zm440 0h160v-160H620v160Z\"/>\n",
              "  </svg>\n",
              "    </button>\n",
              "\n",
              "  <style>\n",
              "    .colab-df-container {\n",
              "      display:flex;\n",
              "      gap: 12px;\n",
              "    }\n",
              "\n",
              "    .colab-df-convert {\n",
              "      background-color: #E8F0FE;\n",
              "      border: none;\n",
              "      border-radius: 50%;\n",
              "      cursor: pointer;\n",
              "      display: none;\n",
              "      fill: #1967D2;\n",
              "      height: 32px;\n",
              "      padding: 0 0 0 0;\n",
              "      width: 32px;\n",
              "    }\n",
              "\n",
              "    .colab-df-convert:hover {\n",
              "      background-color: #E2EBFA;\n",
              "      box-shadow: 0px 1px 2px rgba(60, 64, 67, 0.3), 0px 1px 3px 1px rgba(60, 64, 67, 0.15);\n",
              "      fill: #174EA6;\n",
              "    }\n",
              "\n",
              "    .colab-df-buttons div {\n",
              "      margin-bottom: 4px;\n",
              "    }\n",
              "\n",
              "    [theme=dark] .colab-df-convert {\n",
              "      background-color: #3B4455;\n",
              "      fill: #D2E3FC;\n",
              "    }\n",
              "\n",
              "    [theme=dark] .colab-df-convert:hover {\n",
              "      background-color: #434B5C;\n",
              "      box-shadow: 0px 1px 3px 1px rgba(0, 0, 0, 0.15);\n",
              "      filter: drop-shadow(0px 1px 2px rgba(0, 0, 0, 0.3));\n",
              "      fill: #FFFFFF;\n",
              "    }\n",
              "  </style>\n",
              "\n",
              "    <script>\n",
              "      const buttonEl =\n",
              "        document.querySelector('#df-0ba4f213-d48e-4fc1-98d5-afa059a730a3 button.colab-df-convert');\n",
              "      buttonEl.style.display =\n",
              "        google.colab.kernel.accessAllowed ? 'block' : 'none';\n",
              "\n",
              "      async function convertToInteractive(key) {\n",
              "        const element = document.querySelector('#df-0ba4f213-d48e-4fc1-98d5-afa059a730a3');\n",
              "        const dataTable =\n",
              "          await google.colab.kernel.invokeFunction('convertToInteractive',\n",
              "                                                    [key], {});\n",
              "        if (!dataTable) return;\n",
              "\n",
              "        const docLinkHtml = 'Like what you see? Visit the ' +\n",
              "          '<a target=\"_blank\" href=https://colab.research.google.com/notebooks/data_table.ipynb>data table notebook</a>'\n",
              "          + ' to learn more about interactive tables.';\n",
              "        element.innerHTML = '';\n",
              "        dataTable['output_type'] = 'display_data';\n",
              "        await google.colab.output.renderOutput(dataTable, element);\n",
              "        const docLink = document.createElement('div');\n",
              "        docLink.innerHTML = docLinkHtml;\n",
              "        element.appendChild(docLink);\n",
              "      }\n",
              "    </script>\n",
              "  </div>\n",
              "\n",
              "\n",
              "<div id=\"df-dcc36fc4-a9a2-403e-9550-c36344f8e797\">\n",
              "  <button class=\"colab-df-quickchart\" onclick=\"quickchart('df-dcc36fc4-a9a2-403e-9550-c36344f8e797')\"\n",
              "            title=\"Suggest charts\"\n",
              "            style=\"display:none;\">\n",
              "\n",
              "<svg xmlns=\"http://www.w3.org/2000/svg\" height=\"24px\"viewBox=\"0 0 24 24\"\n",
              "     width=\"24px\">\n",
              "    <g>\n",
              "        <path d=\"M19 3H5c-1.1 0-2 .9-2 2v14c0 1.1.9 2 2 2h14c1.1 0 2-.9 2-2V5c0-1.1-.9-2-2-2zM9 17H7v-7h2v7zm4 0h-2V7h2v10zm4 0h-2v-4h2v4z\"/>\n",
              "    </g>\n",
              "</svg>\n",
              "  </button>\n",
              "\n",
              "<style>\n",
              "  .colab-df-quickchart {\n",
              "      --bg-color: #E8F0FE;\n",
              "      --fill-color: #1967D2;\n",
              "      --hover-bg-color: #E2EBFA;\n",
              "      --hover-fill-color: #174EA6;\n",
              "      --disabled-fill-color: #AAA;\n",
              "      --disabled-bg-color: #DDD;\n",
              "  }\n",
              "\n",
              "  [theme=dark] .colab-df-quickchart {\n",
              "      --bg-color: #3B4455;\n",
              "      --fill-color: #D2E3FC;\n",
              "      --hover-bg-color: #434B5C;\n",
              "      --hover-fill-color: #FFFFFF;\n",
              "      --disabled-bg-color: #3B4455;\n",
              "      --disabled-fill-color: #666;\n",
              "  }\n",
              "\n",
              "  .colab-df-quickchart {\n",
              "    background-color: var(--bg-color);\n",
              "    border: none;\n",
              "    border-radius: 50%;\n",
              "    cursor: pointer;\n",
              "    display: none;\n",
              "    fill: var(--fill-color);\n",
              "    height: 32px;\n",
              "    padding: 0;\n",
              "    width: 32px;\n",
              "  }\n",
              "\n",
              "  .colab-df-quickchart:hover {\n",
              "    background-color: var(--hover-bg-color);\n",
              "    box-shadow: 0 1px 2px rgba(60, 64, 67, 0.3), 0 1px 3px 1px rgba(60, 64, 67, 0.15);\n",
              "    fill: var(--button-hover-fill-color);\n",
              "  }\n",
              "\n",
              "  .colab-df-quickchart-complete:disabled,\n",
              "  .colab-df-quickchart-complete:disabled:hover {\n",
              "    background-color: var(--disabled-bg-color);\n",
              "    fill: var(--disabled-fill-color);\n",
              "    box-shadow: none;\n",
              "  }\n",
              "\n",
              "  .colab-df-spinner {\n",
              "    border: 2px solid var(--fill-color);\n",
              "    border-color: transparent;\n",
              "    border-bottom-color: var(--fill-color);\n",
              "    animation:\n",
              "      spin 1s steps(1) infinite;\n",
              "  }\n",
              "\n",
              "  @keyframes spin {\n",
              "    0% {\n",
              "      border-color: transparent;\n",
              "      border-bottom-color: var(--fill-color);\n",
              "      border-left-color: var(--fill-color);\n",
              "    }\n",
              "    20% {\n",
              "      border-color: transparent;\n",
              "      border-left-color: var(--fill-color);\n",
              "      border-top-color: var(--fill-color);\n",
              "    }\n",
              "    30% {\n",
              "      border-color: transparent;\n",
              "      border-left-color: var(--fill-color);\n",
              "      border-top-color: var(--fill-color);\n",
              "      border-right-color: var(--fill-color);\n",
              "    }\n",
              "    40% {\n",
              "      border-color: transparent;\n",
              "      border-right-color: var(--fill-color);\n",
              "      border-top-color: var(--fill-color);\n",
              "    }\n",
              "    60% {\n",
              "      border-color: transparent;\n",
              "      border-right-color: var(--fill-color);\n",
              "    }\n",
              "    80% {\n",
              "      border-color: transparent;\n",
              "      border-right-color: var(--fill-color);\n",
              "      border-bottom-color: var(--fill-color);\n",
              "    }\n",
              "    90% {\n",
              "      border-color: transparent;\n",
              "      border-bottom-color: var(--fill-color);\n",
              "    }\n",
              "  }\n",
              "</style>\n",
              "\n",
              "  <script>\n",
              "    async function quickchart(key) {\n",
              "      const quickchartButtonEl =\n",
              "        document.querySelector('#' + key + ' button');\n",
              "      quickchartButtonEl.disabled = true;  // To prevent multiple clicks.\n",
              "      quickchartButtonEl.classList.add('colab-df-spinner');\n",
              "      try {\n",
              "        const charts = await google.colab.kernel.invokeFunction(\n",
              "            'suggestCharts', [key], {});\n",
              "      } catch (error) {\n",
              "        console.error('Error during call to suggestCharts:', error);\n",
              "      }\n",
              "      quickchartButtonEl.classList.remove('colab-df-spinner');\n",
              "      quickchartButtonEl.classList.add('colab-df-quickchart-complete');\n",
              "    }\n",
              "    (() => {\n",
              "      let quickchartButtonEl =\n",
              "        document.querySelector('#df-dcc36fc4-a9a2-403e-9550-c36344f8e797 button');\n",
              "      quickchartButtonEl.style.display =\n",
              "        google.colab.kernel.accessAllowed ? 'block' : 'none';\n",
              "    })();\n",
              "  </script>\n",
              "</div>\n",
              "\n",
              "    </div>\n",
              "  </div>\n"
            ],
            "application/vnd.google.colaboratory.intrinsic+json": {
              "type": "dataframe",
              "summary": "{\n  \"name\": \"df2\",\n  \"rows\": 8,\n  \"fields\": [\n    {\n      \"column\": \"id\",\n      \"properties\": {\n        \"dtype\": \"number\",\n        \"std\": 12815268.254523495,\n        \"min\": 2595.0,\n        \"max\": 36455809.0,\n        \"num_unique_values\": 8,\n        \"samples\": [\n          18101274.42521896,\n          18873394.0,\n          38820.0\n        ],\n        \"semantic_type\": \"\",\n        \"description\": \"\"\n      }\n    },\n    {\n      \"column\": \"host_id\",\n      \"properties\": {\n        \"dtype\": \"number\",\n        \"std\": 91120169.4832427,\n        \"min\": 2438.0,\n        \"max\": 273841667.0,\n        \"num_unique_values\": 8,\n        \"samples\": [\n          64247473.53217414,\n          28371425.5,\n          38820.0\n        ],\n        \"semantic_type\": \"\",\n        \"description\": \"\"\n      }\n    },\n    {\n      \"column\": \"latitude\",\n      \"properties\": {\n        \"dtype\": \"number\",\n        \"std\": 13712.60715814258,\n        \"min\": 0.05498992585174173,\n        \"max\": 38820.0,\n        \"num_unique_values\": 8,\n        \"samples\": [\n          40.72813120273055,\n          40.72171,\n          38820.0\n        ],\n        \"semantic_type\": \"\",\n        \"description\": \"\"\n      }\n    },\n    {\n      \"column\": \"longitude\",\n      \"properties\": {\n        \"dtype\": \"number\",\n        \"std\": 13747.378977032331,\n        \"min\": -74.24442,\n        \"max\": 38820.0,\n        \"num_unique_values\": 8,\n        \"samples\": [\n          -73.95114827150952,\n          -73.954805,\n          38820.0\n        ],\n        \"semantic_type\": \"\",\n        \"description\": \"\"\n      }\n    },\n    {\n      \"column\": \"price\",\n      \"properties\": {\n        \"dtype\": \"number\",\n        \"std\": 13632.01260699523,\n        \"min\": 0.0,\n        \"max\": 38820.0,\n        \"num_unique_values\": 8,\n        \"samples\": [\n          142.33235445646574,\n          101.0,\n          38820.0\n        ],\n        \"semantic_type\": \"\",\n        \"description\": \"\"\n      }\n    },\n    {\n      \"column\": \"minimo_noites\",\n      \"properties\": {\n        \"dtype\": \"number\",\n        \"std\": 13667.173348620188,\n        \"min\": 1.0,\n        \"max\": 38820.0,\n        \"num_unique_values\": 7,\n        \"samples\": [\n          38820.0,\n          5.869345698093766,\n          4.0\n        ],\n        \"semantic_type\": \"\",\n        \"description\": \"\"\n      }\n    },\n    {\n      \"column\": \"numero_de_reviews\",\n      \"properties\": {\n        \"dtype\": \"number\",\n        \"std\": 13688.60220045755,\n        \"min\": 1.0,\n        \"max\": 38820.0,\n        \"num_unique_values\": 8,\n        \"samples\": [\n          29.290777949510563,\n          9.0,\n          38820.0\n        ],\n        \"semantic_type\": \"\",\n        \"description\": \"\"\n      }\n    },\n    {\n      \"column\": \"reviews_por_mes\",\n      \"properties\": {\n        \"dtype\": \"number\",\n        \"std\": 13721.699974315903,\n        \"min\": 0.01,\n        \"max\": 38820.0,\n        \"num_unique_values\": 8,\n        \"samples\": [\n          1.3732591447707367,\n          0.72,\n          38820.0\n        ],\n        \"semantic_type\": \"\",\n        \"description\": \"\"\n      }\n    },\n    {\n      \"column\": \"calculado_host_listings_count\",\n      \"properties\": {\n        \"dtype\": \"number\",\n        \"std\": 13707.047277938915,\n        \"min\": 1.0,\n        \"max\": 38820.0,\n        \"num_unique_values\": 6,\n        \"samples\": [\n          38820.0,\n          5.166589386913962,\n          327.0\n        ],\n        \"semantic_type\": \"\",\n        \"description\": \"\"\n      }\n    },\n    {\n      \"column\": \"disponibilidade_365\",\n      \"properties\": {\n        \"dtype\": \"number\",\n        \"std\": 13680.365208202036,\n        \"min\": 0.0,\n        \"max\": 38820.0,\n        \"num_unique_values\": 7,\n        \"samples\": [\n          38820.0,\n          114.87985574446162,\n          229.0\n        ],\n        \"semantic_type\": \"\",\n        \"description\": \"\"\n      }\n    }\n  ]\n}"
            }
          },
          "metadata": {},
          "execution_count": 14
        }
      ]
    },
    {
      "cell_type": "code",
      "source": [
        "df2.info()"
      ],
      "metadata": {
        "colab": {
          "base_uri": "https://localhost:8080/"
        },
        "id": "UH_pPgwAP2ji",
        "outputId": "d398dc3d-69ba-4775-d0fd-4e76de77465a"
      },
      "execution_count": null,
      "outputs": [
        {
          "output_type": "stream",
          "name": "stdout",
          "text": [
            "<class 'pandas.core.frame.DataFrame'>\n",
            "Index: 38820 entries, 0 to 48851\n",
            "Data columns (total 16 columns):\n",
            " #   Column                         Non-Null Count  Dtype  \n",
            "---  ------                         --------------  -----  \n",
            " 0   id                             38820 non-null  int64  \n",
            " 1   nome                           38820 non-null  object \n",
            " 2   host_id                        38820 non-null  int64  \n",
            " 3   host_name                      38820 non-null  object \n",
            " 4   bairro_group                   38820 non-null  object \n",
            " 5   bairro                         38820 non-null  object \n",
            " 6   latitude                       38820 non-null  float64\n",
            " 7   longitude                      38820 non-null  float64\n",
            " 8   room_type                      38820 non-null  object \n",
            " 9   price                          38820 non-null  int64  \n",
            " 10  minimo_noites                  38820 non-null  int64  \n",
            " 11  numero_de_reviews              38820 non-null  int64  \n",
            " 12  ultima_review                  38820 non-null  object \n",
            " 13  reviews_por_mes                38820 non-null  float64\n",
            " 14  calculado_host_listings_count  38820 non-null  int64  \n",
            " 15  disponibilidade_365            38820 non-null  int64  \n",
            "dtypes: float64(3), int64(7), object(6)\n",
            "memory usage: 5.0+ MB\n"
          ]
        }
      ]
    },
    {
      "cell_type": "markdown",
      "source": [
        "Tratamento de dados"
      ],
      "metadata": {
        "id": "p6fXildpQXJF"
      }
    },
    {
      "cell_type": "code",
      "source": [
        "data= df2['ultima_review']\n",
        "print(data)"
      ],
      "metadata": {
        "colab": {
          "base_uri": "https://localhost:8080/"
        },
        "id": "ndXHUEfgQS24",
        "outputId": "1ebb5784-8a04-4532-f965-0e1a86d00b84"
      },
      "execution_count": null,
      "outputs": [
        {
          "output_type": "stream",
          "name": "stdout",
          "text": [
            "0        2019-05-21\n",
            "2        2019-07-05\n",
            "3        2018-11-19\n",
            "4        2019-06-22\n",
            "5        2017-10-05\n",
            "            ...    \n",
            "48781    2019-07-07\n",
            "48789    2019-07-07\n",
            "48798    2019-07-07\n",
            "48804    2019-07-07\n",
            "48851    2019-07-08\n",
            "Name: ultima_review, Length: 38820, dtype: object\n"
          ]
        }
      ]
    },
    {
      "cell_type": "code",
      "source": [
        "\n",
        "# Convertendo a coluna 'ultima_review' para datetime\n",
        "df2['ultima_review'] = pd.to_datetime(df2['ultima_review'])\n",
        "print(df2.info())"
      ],
      "metadata": {
        "colab": {
          "base_uri": "https://localhost:8080/"
        },
        "id": "zXwh4JFkQorG",
        "outputId": "5d1d1774-5989-4dbe-8675-7aedd7b5955c"
      },
      "execution_count": null,
      "outputs": [
        {
          "output_type": "stream",
          "name": "stdout",
          "text": [
            "<class 'pandas.core.frame.DataFrame'>\n",
            "Index: 38820 entries, 0 to 48851\n",
            "Data columns (total 16 columns):\n",
            " #   Column                         Non-Null Count  Dtype         \n",
            "---  ------                         --------------  -----         \n",
            " 0   id                             38820 non-null  int64         \n",
            " 1   nome                           38820 non-null  object        \n",
            " 2   host_id                        38820 non-null  int64         \n",
            " 3   host_name                      38820 non-null  object        \n",
            " 4   bairro_group                   38820 non-null  object        \n",
            " 5   bairro                         38820 non-null  object        \n",
            " 6   latitude                       38820 non-null  float64       \n",
            " 7   longitude                      38820 non-null  float64       \n",
            " 8   room_type                      38820 non-null  object        \n",
            " 9   price                          38820 non-null  int64         \n",
            " 10  minimo_noites                  38820 non-null  int64         \n",
            " 11  numero_de_reviews              38820 non-null  int64         \n",
            " 12  ultima_review                  38820 non-null  datetime64[ns]\n",
            " 13  reviews_por_mes                38820 non-null  float64       \n",
            " 14  calculado_host_listings_count  38820 non-null  int64         \n",
            " 15  disponibilidade_365            38820 non-null  int64         \n",
            "dtypes: datetime64[ns](1), float64(3), int64(7), object(5)\n",
            "memory usage: 5.0+ MB\n",
            "None\n"
          ]
        },
        {
          "output_type": "stream",
          "name": "stderr",
          "text": [
            "<ipython-input-17-fbff89cbf2bf>:2: SettingWithCopyWarning: \n",
            "A value is trying to be set on a copy of a slice from a DataFrame.\n",
            "Try using .loc[row_indexer,col_indexer] = value instead\n",
            "\n",
            "See the caveats in the documentation: https://pandas.pydata.org/pandas-docs/stable/user_guide/indexing.html#returning-a-view-versus-a-copy\n",
            "  df2['ultima_review'] = pd.to_datetime(df2['ultima_review'])\n"
          ]
        }
      ]
    },
    {
      "cell_type": "code",
      "source": [
        "data_review = df2['ultima_review']\n",
        "print(data_review)"
      ],
      "metadata": {
        "colab": {
          "base_uri": "https://localhost:8080/"
        },
        "id": "VrDyLDBKRy9W",
        "outputId": "faca3349-a7ba-4100-9213-fe8783bda87e"
      },
      "execution_count": null,
      "outputs": [
        {
          "output_type": "stream",
          "name": "stdout",
          "text": [
            "0       2019-05-21\n",
            "2       2019-07-05\n",
            "3       2018-11-19\n",
            "4       2019-06-22\n",
            "5       2017-10-05\n",
            "           ...    \n",
            "48781   2019-07-07\n",
            "48789   2019-07-07\n",
            "48798   2019-07-07\n",
            "48804   2019-07-07\n",
            "48851   2019-07-08\n",
            "Name: ultima_review, Length: 38820, dtype: datetime64[ns]\n"
          ]
        }
      ]
    }
  ]
}